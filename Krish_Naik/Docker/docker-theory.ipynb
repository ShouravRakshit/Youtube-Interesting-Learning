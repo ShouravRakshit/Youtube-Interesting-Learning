{
 "cells": [
  {
   "cell_type": "markdown",
   "id": "e57bdaee",
   "metadata": {},
   "source": [
    "# Life without Docker\n",
    "1. Lets say person A worked on the project named X. He installed bunch of packages (sql, mongodb) and many more in a windows machine. Now, person B starts working on the same project but he has a linux machine and he has to install all the dependencies. But there is a good chance there is going to be a mismatch because of different operating system. So, you have to manually fix that issue. Docker solves that issue by containerzing the whole application in a image. As a result, the person B now  just runs the container  and boom the application will work just like person A's machine. "
   ]
  },
  {
   "cell_type": "markdown",
   "id": "e16ac319",
   "metadata": {},
   "source": [
    "# What is a container?\n",
    "A way to package application with all the necessary dependencies and configuration."
   ]
  }
 ],
 "metadata": {
  "language_info": {
   "name": "python"
  }
 },
 "nbformat": 4,
 "nbformat_minor": 5
}
