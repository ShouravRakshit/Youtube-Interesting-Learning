{
 "cells": [
  {
   "cell_type": "code",
   "execution_count": 55,
   "id": "c0d78529",
   "metadata": {},
   "outputs": [],
   "source": [
    "import tensorflow as tf\n",
    "from tensorflow.keras.layers import Dense, Flatten, Reshape\n",
    "from tensorflow.keras.models import Sequential\n",
    "import numpy as np"
   ]
  },
  {
   "cell_type": "code",
   "execution_count": 56,
   "id": "a19dbf2c",
   "metadata": {},
   "outputs": [],
   "source": [
    "# Generator network\n",
    "def create_generator(noise_dim):\n",
    "    gen_model= Sequential()\n",
    "    gen_model.add(Dense(128, input_dim=noise_dim, activation='relu'))\n",
    "    gen_model.add(Dense(784, activation='sigmoid'))  # 28*28 = 784 for MNIST\n",
    "    gen_model.add(Reshape((28,28,1)))\n",
    "    return gen_model\n",
    "\n",
    "# Discriminator network\n",
    "def create_discriminator(image_shape):\n",
    "    disc_model = Sequential()\n",
    "    disc_model.add(Flatten(input_shape=image_shape))\n",
    "    disc_model.add(Dense(128, activation='relu'))\n",
    "    disc_model.add(Dense(1, activation='sigmoid'))  # Binary classification\n",
    "    return disc_model"
   ]
  },
  {
   "cell_type": "code",
   "execution_count": 57,
   "id": "40088e13",
   "metadata": {},
   "outputs": [],
   "source": [
    "# set hyperparameters\n",
    "noise_dim = 100\n",
    "image_shape = (28, 28, 1)\n",
    "\n",
    "# initialize gan components\n",
    "discriminator_net = create_discriminator(image_shape)\n",
    "discriminator_net.compile(loss='binary_crossentropy', optimizer='adam', metrics=['accuracy'])\n",
    "generator_net = create_generator(noise_dim)\n",
    "noise_input = tf.keras.Input(shape=(noise_dim,))\n",
    "generated_image = generator_net(noise_input)\n",
    "discriminator_net.trainable = False\n",
    "validity_output = discriminator_net(generated_image)\n"
   ]
  },
  {
   "cell_type": "code",
   "execution_count": 58,
   "id": "8a70f67f",
   "metadata": {},
   "outputs": [],
   "source": [
    "gan_model = tf.keras.Model(noise_input, validity_output)\n",
    "gan_model.compile(loss='binary_crossentropy', optimizer='adam')"
   ]
  },
  {
   "cell_type": "code",
   "execution_count": 59,
   "id": "84a55e9c",
   "metadata": {},
   "outputs": [],
   "source": [
    "# Training loop\n",
    "def train_gan_model(gan_model, generator_net, discriminator_net, num_epochs, batch_size, noise_dim):\n",
    "    (train_images, _), (_, _) = tf.keras.datasets.mnist.load_data()\n",
    "    train_images = train_images / 255.0\n",
    "    train_images = np.expand_dims(train_images, axis=1)  \n",
    "    \n",
    "    real_labels = np.ones((batch_size, 1))\n",
    "    fake_labels = np.zeros((batch_size, 1))\n",
    "\n",
    "    for epoch in range(epochs):\n",
    "        # Train discriminator on real and fake images\n",
    "        idx = np.random.randint(0, train_images.shape[0], batch_size)\n",
    "        real_images = train_images[idx]\n",
    "\n",
    "        noise = np.random.normal(0, 1, (batch_size, noise_dim))\n",
    "        generated_images = generator_net.predict(noise)\n",
    "\n",
    "        d_loss_real = discriminator_net.train_on_batch(real_images, real_labels)\n",
    "        d_loss_fake = discriminator_net.train_on_batch(generated_images, fake_labels)\n",
    "        d_loss = 0.5 * np.add(d_loss_real, d_loss_fake)\n",
    "\n",
    "        # Train generator\n",
    "        noise = np.random.normal(0, 1, (batch_size, noise_dim))\n",
    "        g_loss = gan_model.train_on_batch(noise, real_labels)\n",
    "\n",
    "        if epoch % 100 == 0:\n",
    "            print(f\"{epoch} [D loss: {d_loss[0]:.4f}, acc.: {100*d_loss[1]:.2f}%] [G loss: {g_loss:.4f}]\")\n",
    "        \n",
    "    \n",
    "    train_gan_model(gan_model, generator_net, discriminator_net, num_epochs=100000, batch_size=64, noise_dim=noise_dim)"
   ]
  },
  {
   "cell_type": "code",
   "execution_count": 60,
   "id": "dc492347",
   "metadata": {},
   "outputs": [
    {
     "name": "stdout",
     "output_type": "stream",
     "text": [
      "WARNING:tensorflow:6 out of the last 6 calls to <function TensorFlowTrainer.make_predict_function.<locals>.one_step_on_data_distributed at 0x0000022934B974C0> triggered tf.function retracing. Tracing is expensive and the excessive number of tracings could be due to (1) creating @tf.function repeatedly in a loop, (2) passing tensors with different shapes, (3) passing Python objects instead of tensors. For (1), please define your @tf.function outside of the loop. For (2), @tf.function has reduce_retracing=True option that can avoid unnecessary retracing. For (3), please refer to https://www.tensorflow.org/guide/function#controlling_retracing and https://www.tensorflow.org/api_docs/python/tf/function for  more details.\n",
      "\u001b[1m1/1\u001b[0m \u001b[32m━━━━━━━━━━━━━━━━━━━━\u001b[0m\u001b[37m\u001b[0m \u001b[1m0s\u001b[0m 36ms/step\n"
     ]
    },
    {
     "data": {
      "image/png": "[encoded data removed]",
      "text/plain": [
       "<Figure size 640x480 with 1 Axes>"
      ]
     },
     "metadata": {},
     "output_type": "display_data"
    }
   ],
   "source": [
    "z = np.random.normal(0, 1, (10, noise_dim))\n",
    "\n",
    "# Generate images\n",
    "generated_images = generator_net.predict(z)\n",
    "\n",
    "# Plot the first generated image\n",
    "plt.imshow(generated_images[0, :, :, 0], cmap='gray')  # Fixed plt.imshow and cmap\n",
    "plt.axis('off')\n",
    "plt.show()"
   ]
  }
 ],
 "metadata": {
  "kernelspec": {
   "display_name": "Python 3",
   "language": "python",
   "name": "python3"
  },
  "language_info": {
   "codemirror_mode": {
    "name": "ipython",
    "version": 3
   },
   "file_extension": ".py",
   "mimetype": "text/x-python",
   "name": "python",
   "nbconvert_exporter": "python",
   "pygments_lexer": "ipython3",
   "version": "3.12.6"
  }
 },
 "nbformat": 4,
 "nbformat_minor": 5
}
